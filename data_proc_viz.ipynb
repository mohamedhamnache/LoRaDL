{
 "cells": [
  {
   "cell_type": "code",
   "execution_count": 1,
   "metadata": {},
   "outputs": [],
   "source": [
    "# Imports\n",
    "import json\n",
    "import pandas as pd\n",
    "import matplotlib.mlab as mlab\n",
    "import matplotlib.pyplot as plt\n",
    "import numpy as np"
   ]
  },
  {
   "cell_type": "code",
   "execution_count": 2,
   "metadata": {},
   "outputs": [],
   "source": [
    "#Config\n",
    "devEUI = 'deadbeefdead0064'\n",
    "EXP_PATH = \"exp/exp_device_7\"\n",
    "UPLINK_PATH = f'{EXP_PATH}/uplink_{devEUI}.json'\n",
    "DOWNLINK_PATH = f'{EXP_PATH}/downlink_{devEUI}.json'\n",
    "DATA_PATH = f'{EXP_PATH}/data_{devEUI}.json'"
   ]
  },
  {
   "cell_type": "code",
   "execution_count": null,
   "metadata": {},
   "outputs": [],
   "source": []
  },
  {
   "cell_type": "code",
   "execution_count": null,
   "metadata": {},
   "outputs": [],
   "source": []
  },
  {
   "cell_type": "code",
   "execution_count": 3,
   "metadata": {},
   "outputs": [],
   "source": [
    "\n",
    "'''\n",
    "\n",
    "df = pd.read_json(DOWNLINK_PATH)\n",
    "#df.info()\n",
    "\n",
    "df = df['downlinkFrame']\n",
    "gateways = []\n",
    "sf = []\n",
    "for d in df :\n",
    "    print(d)\n",
    "    sf.append(d['txInfo']['loRaModulationInfo']['spreadingFactor'])\n",
    "    gateways.append(d['gatewayID'])\n",
    "print(gateways)\n",
    "'''\n",
    "pass"
   ]
  },
  {
   "cell_type": "code",
   "execution_count": 4,
   "metadata": {},
   "outputs": [],
   "source": [
    "'''\n",
    "# Gateways utilization\n",
    "\n",
    "\n",
    "fig = plt.figure()\n",
    "ax = fig.add_axes([0,0,1,1])\n",
    "langs = ['GW1', 'GW2']\n",
    "\n",
    "ax.bar(langs,[gateways.count('3235313214003900'),gateways.count('323531322a004700')])\n",
    "plt.show()\n",
    "'''\n",
    "pass"
   ]
  },
  {
   "cell_type": "code",
   "execution_count": 5,
   "metadata": {},
   "outputs": [],
   "source": [
    "'''\n",
    "# SF Downlink Utilization\n",
    "\n",
    "num_bins = 6\n",
    "n, bins, patches = plt.hist(sf, num_bins, facecolor='blue', alpha=0.5)\n",
    "plt.show()'''\n",
    "pass"
   ]
  },
  {
   "cell_type": "code",
   "execution_count": 6,
   "metadata": {},
   "outputs": [],
   "source": [
    "\n",
    "#Data Extraction\n",
    "'''\n",
    "df = pd.read_json(DATA_PATH)\n",
    "#df.info()\n",
    "\n",
    "#print(df)\n",
    "gateways = []\n",
    "sf = []\n",
    "downlinks = df['downlinkFrame'].dropna()\n",
    "uplinks = df['uplinkFrame'].dropna()\n",
    "downlinks_data = []\n",
    "uplinks_data = []\n",
    "\n",
    "for d in downlinks :\n",
    "    downlinks_data.append(d)\n",
    "for d in uplinks :\n",
    "    uplinks_data.append(d)\n",
    "        \n",
    "print(len(downlinks_data))\n",
    "print(len(uplinks_data))'''\n",
    "pass"
   ]
  },
  {
   "cell_type": "code",
   "execution_count": 7,
   "metadata": {},
   "outputs": [],
   "source": [
    "'''def get_downlink_parameters(downlinks):\n",
    "    gateways =[]\n",
    "    sf =[]\n",
    "    mac_dr  =[]\n",
    "    for down in downlinks:\n",
    "        if down ['phyPayloadJSON']['mhdr']['mType'] == 'UnconfirmedDataDown' :\n",
    "            gateways.append(down['gatewayID'])\n",
    "            sf.append(down['txInfo']['loRaModulationInfo']['spreadingFactor'])\n",
    "            mac_dr.append(down ['phyPayloadJSON']['macPayload']['fhdr']['fOpts'][0]['payload']['dataRate'])\n",
    "    return gateways, sf, mac_dr\n",
    "\n",
    "\n",
    "def get_uplink_parameters(uplinks):\n",
    "    sf =  []\n",
    "    ch  =[]\n",
    "    tp = []\n",
    "    for up in uplinks:\n",
    "        ch.append(up['txInfo'] ['frequency'])\n",
    "        sf.append(up['txInfo'] ['loRaModulationInfo']['spreadingFactor'])\n",
    "    return sf, ch\n",
    "up_sf, up_ch =  get_uplink_parameters(uplinks)\n",
    "\n",
    "def dr_to_sf(dr):\n",
    "    sf = [12,11,10,9,8,7]\n",
    "    for i in range(len(dr)) :\n",
    "        dr[i] = sf[dr[i]]\n",
    "    return dr\n",
    "\n",
    "down_gateways, down_sf, dr_down =  get_downlink_parameters(downlinks)\n",
    "print(dr_down)'''\n",
    "\n",
    "pass"
   ]
  },
  {
   "cell_type": "code",
   "execution_count": 8,
   "metadata": {},
   "outputs": [],
   "source": [
    "\n",
    "'''\n",
    "down_gateways, down_sf, down_dr =  get_downlink_parameters(downlinks)\n",
    "down_dr = dr_to_sf(dr_down)\n",
    "print(down_dr)\n",
    "up_sf, up_ch =  get_uplink_parameters(uplinks)\n",
    "\n",
    "num_bins = 6\n",
    "#n, bins, patches = plt.hist(down_dr, num_bins, facecolor='green', alpha=0.5)\n",
    "#n, bins, patches = plt.hist(down_sf, num_bins, facecolor='blue', alpha=0.5)\n",
    "n, bins, patches = plt.hist(up_sf, num_bins, facecolor='red', alpha=0.5)\n",
    "plt.show()'''\n",
    "\n",
    "pass"
   ]
  },
  {
   "cell_type": "code",
   "execution_count": 9,
   "metadata": {},
   "outputs": [],
   "source": [
    "'''def count_sf(sfs ):\n",
    "    counts =[]\n",
    "    for sf in range (7,13):\n",
    "        counts.append(sfs.count(sf))\n",
    "    return counts\n",
    "\n",
    "up_sf_counts = count_sf(up_sf)\n",
    "down_sf_counts = count_sf(down_dr)'''\n",
    "pass"
   ]
  },
  {
   "cell_type": "code",
   "execution_count": 10,
   "metadata": {},
   "outputs": [],
   "source": [
    "'''import numpy as np\n",
    "import matplotlib.pyplot as plt\n",
    "N = 6\n",
    "menMeans = (20, 35, 30, 35, 27)\n",
    "womenMeans = (25, 32, 34, 20, 25)\n",
    "ind = np.arange(N) # the x locations for the groups\n",
    "width = 0.7\n",
    "fig = plt.figure()\n",
    "ax = fig.add_axes([0,0,1,1])\n",
    "ax.bar(ind, up_sf_counts, width, color='blue',alpha=0.5)\n",
    "ax.bar(ind, down_sf_counts, width,bottom=up_sf_counts, color='red',alpha=1)\n",
    "ax.set_ylabel('Frames')\n",
    "ax.set_title('Frames by SF and Message Type')\n",
    "ax.set_xticks(ind, ('SF7', 'SF8', 'SF9', 'SF10', 'SF11','SF12'))\n",
    "ax.set_yticks(np.arange(0, 81, 10))\n",
    "ax.legend(labels=['Uplink', 'Downlink'])\n",
    "plt.savefig('img/up_down.png')\n",
    "plt.show()'''\n",
    "pass"
   ]
  },
  {
   "cell_type": "code",
   "execution_count": null,
   "metadata": {},
   "outputs": [],
   "source": []
  },
  {
   "cell_type": "code",
   "execution_count": 11,
   "metadata": {},
   "outputs": [],
   "source": [
    "'''fig = plt.figure()\n",
    "ax = fig.add_axes([0,0,1,1])\n",
    "langs = ['GW1', 'GW2']\n",
    "\n",
    "pps = ax.bar(langs,[down_gateways.count('3235313214003900'),down_gateways.count('323531322a004700')],color = 'blue',alpha=0.5)\n",
    "for p in pps:\n",
    "    height = p.get_height()\n",
    "    ax.text(x=p.get_x() + p.get_width() / 2, y=height+.10,\n",
    "      s=\"{:.2f}%\".format((height/len(down_gateways)*100)),\n",
    "      ha='center')\n",
    "ax.set_ylabel('Downlink Frames')\n",
    "ax.set_title('Downlink Frames by Gateway')\n",
    "plt.savefig('img/gateways.png')\n",
    "plt.show()'''\n",
    "pass"
   ]
  },
  {
   "cell_type": "code",
   "execution_count": 12,
   "metadata": {},
   "outputs": [],
   "source": [
    "\n",
    "\n",
    "'''\n",
    "up_sf, up_ch =  get_uplink_parameters(uplinks)\n",
    "up_ch = np.array(up_ch)\n",
    "up_ch = up_ch/10**6\n",
    "\n",
    "channels = set(up_ch)\n",
    "#print(up_ch)\n",
    "\n",
    "\n",
    "\n",
    "channel_counts = []\n",
    "for ch in channels:\n",
    "    channel_counts.append(np.count_nonzero(up_ch == ch))\n",
    "    \n",
    "channels = np.array(channels)\n",
    "print(type(channels))\n",
    "channels = ['868.1', '868.3', '867.5', '868.5']\n",
    "print(channels)\n",
    "print(channel_counts)\n",
    "    \n",
    "fig = plt.figure()\n",
    "ax = fig.add_axes([0,0,1,1])\n",
    "\n",
    "\n",
    "pps = ax.bar(channels,channel_counts,color = 'blue',alpha=0.5)\n",
    "for p in pps:\n",
    "    height = p.get_height()\n",
    "    ax.text(x=p.get_x() + p.get_width() / 2, y=height+.10,\n",
    "      s=\"{:.2f}%\".format((height/len(up_ch)*100)),\n",
    "      ha='center')\n",
    "ax.set_ylabel('Uplink Frames')\n",
    "ax.set_title('Uplink Frames by Channel')\n",
    "plt.savefig('img/up_ch.png')\n",
    "plt.show()'''\n",
    "pass"
   ]
  },
  {
   "cell_type": "code",
   "execution_count": 13,
   "metadata": {},
   "outputs": [
    {
     "name": "stdout",
     "output_type": "stream",
     "text": [
      "35\n",
      "155\n"
     ]
    }
   ],
   "source": [
    "\n",
    "devEUI = 'dead2483dead0003'\n",
    "EXP_PATH = \"exp/exp_device_7\"\n",
    "\n",
    "DATA_PATH = f'{EXP_PATH}/data_{devEUI}.json'\n",
    "\n",
    "\n",
    "#Data Extraction\n",
    "\n",
    "df = pd.read_json(DATA_PATH)\n",
    "#df.info()\n",
    "\n",
    "#print(df)\n",
    "gateways = []\n",
    "sf = []\n",
    "downlinks = df['downlinkFrame'].dropna()\n",
    "uplinks = df['uplinkFrame'].dropna()\n",
    "downlinks_data = []\n",
    "uplinks_data = []\n",
    "\n",
    "for d in downlinks :\n",
    "    downlinks_data.append(d)\n",
    "for d in uplinks :\n",
    "    uplinks_data.append(d)\n",
    "        \n",
    "print(len(downlinks_data))\n",
    "print(len(uplinks_data))\n",
    "#print(downlinks_data)"
   ]
  },
  {
   "cell_type": "code",
   "execution_count": null,
   "metadata": {},
   "outputs": [],
   "source": []
  },
  {
   "cell_type": "code",
   "execution_count": null,
   "metadata": {},
   "outputs": [],
   "source": []
  },
  {
   "cell_type": "code",
   "execution_count": 14,
   "metadata": {},
   "outputs": [
    {
     "name": "stdout",
     "output_type": "stream",
     "text": [
      "[5, 5, 4, 4, 3, 2, 2, 2, 2, 1, 1, 0, 5, 5, 5, 5, 3, 2, 2, 1, 0, 0, 2, 2, 2, 3, 3, 5, 5, 0, 0, 5, 5, 0, 0]\n"
     ]
    }
   ],
   "source": [
    "def get_downlink_parameters(downlinks):\n",
    "    gateways =[]\n",
    "    sf =[]\n",
    "    mac_dr  =[]\n",
    "    for down in downlinks:\n",
    "        if down ['phyPayloadJSON']['mhdr']['mType'] == 'UnconfirmedDataDown' :\n",
    "            gateways.append(down['gatewayID'])\n",
    "            sf.append(down['txInfo']['loRaModulationInfo']['spreadingFactor'])\n",
    "            mac_dr.append(down ['phyPayloadJSON']['macPayload']['fhdr']['fOpts'][0]['payload']['dataRate'])\n",
    "    return gateways, sf, mac_dr\n",
    "\n",
    "\n",
    "def get_uplink_parameters(uplinks):\n",
    "    sf =  []\n",
    "    ch  =[]\n",
    "    tp = []\n",
    "    for up in uplinks:\n",
    "        ch.append(up['txInfo'] ['frequency'])\n",
    "        sf.append(up['txInfo'] ['loRaModulationInfo']['spreadingFactor'])\n",
    "    return sf, ch\n",
    "up_sf, up_ch =  get_uplink_parameters(uplinks)\n",
    "\n",
    "def dr_to_sf(dr):\n",
    "    sf = [12,11,10,9,8,7]\n",
    "    for i in range(len(dr)) :\n",
    "        dr[i] = sf[dr[i]]\n",
    "    return dr\n",
    "\n",
    "down_gateways, down_sf, dr_down =  get_downlink_parameters(downlinks)\n",
    "print(dr_down)\n"
   ]
  },
  {
   "cell_type": "code",
   "execution_count": 15,
   "metadata": {},
   "outputs": [
    {
     "name": "stdout",
     "output_type": "stream",
     "text": [
      "[7, 7, 8, 8, 9, 10, 10, 10, 10, 11, 11, 12, 7, 7, 7, 7, 9, 10, 10, 11, 12, 12, 10, 10, 10, 9, 9, 7, 7, 12, 12, 7, 7, 12, 12]\n"
     ]
    },
    {
     "data": {
      "image/png": "[encoded data removed]",
      "text/plain": [
       "<Figure size 432x288 with 1 Axes>"
      ]
     },
     "metadata": {
      "needs_background": "light"
     },
     "output_type": "display_data"
    }
   ],
   "source": [
    "down_gateways, down_sf, down_dr =  get_downlink_parameters(downlinks)\n",
    "down_dr = dr_to_sf(dr_down)\n",
    "print(down_dr)\n",
    "up_sf, up_ch =  get_uplink_parameters(uplinks)\n",
    "\n",
    "num_bins = 6\n",
    "#n, bins, patches = plt.hist(down_dr, num_bins, facecolor='green', alpha=0.5)\n",
    "#n, bins, patches = plt.hist(down_sf, num_bins, facecolor='blue', alpha=0.5)\n",
    "n, bins, patches = plt.hist(up_sf, num_bins, facecolor='red', alpha=1)\n",
    "plt.show()"
   ]
  },
  {
   "cell_type": "code",
   "execution_count": 16,
   "metadata": {},
   "outputs": [],
   "source": [
    "def count_sf(sfs ):\n",
    "    counts =[]\n",
    "    for sf in range (7,13):\n",
    "        counts.append(sfs.count(sf))\n",
    "    return counts\n",
    "\n",
    "up_sf_counts = count_sf(up_sf)\n",
    "down_sf_counts = count_sf(down_dr)"
   ]
  },
  {
   "cell_type": "code",
   "execution_count": 17,
   "metadata": {},
   "outputs": [
    {
     "data": {
      "image/png": "[encoded data removed]",
      "text/plain": [
       "<Figure size 432x288 with 1 Axes>"
      ]
     },
     "metadata": {
      "needs_background": "light"
     },
     "output_type": "display_data"
    }
   ],
   "source": [
    "import numpy as np\n",
    "import matplotlib.pyplot as plt\n",
    "N = 6\n",
    "menMeans = (20, 35, 30, 35, 27)\n",
    "womenMeans = (25, 32, 34, 20, 25)\n",
    "ind = np.arange(N) # the x locations for the groups\n",
    "width = 0.7\n",
    "fig = plt.figure()\n",
    "ax = fig.add_axes([0,0,1,1])\n",
    "ax.bar(ind, up_sf_counts, width, color='blue',alpha=1)\n",
    "ax.bar(ind, down_sf_counts, width,bottom=up_sf_counts, color='red',alpha=1)\n",
    "ax.set_ylabel('Frames')\n",
    "ax.set_title('Frames by SF and Message Type')\n",
    "ax.set_xticks(ind, ('SF7', 'SF8', 'SF9', 'SF10', 'SF11','SF12'))\n",
    "ax.set_yticks(np.arange(0, 81, 10))\n",
    "ax.legend(labels=['Uplink', 'Downlink'])\n",
    "plt.savefig('img/up_down.png')\n",
    "plt.show()"
   ]
  },
  {
   "cell_type": "code",
   "execution_count": 18,
   "metadata": {},
   "outputs": [
    {
     "data": {
      "image/png": "[encoded data removed]",
      "text/plain": [
       "<Figure size 432x288 with 1 Axes>"
      ]
     },
     "metadata": {
      "needs_background": "light"
     },
     "output_type": "display_data"
    }
   ],
   "source": [
    "fig = plt.figure()\n",
    "ax = fig.add_axes([0,0,1,1])\n",
    "langs = ['GW1', 'GW2']\n",
    "\n",
    "pps = ax.bar(langs,[down_gateways.count('3235313214003900'),down_gateways.count('323531323f007000')],width = 0.5,color = 'blue',alpha=1)\n",
    "for p in pps:\n",
    "    height = p.get_height()\n",
    "    ax.text(x=p.get_x() + p.get_width() / 2, y=height+.10,\n",
    "      s=\"{:.2f}%\".format((height/len(down_gateways)*100)),\n",
    "      ha='center')\n",
    "ax.set_ylabel('Downlink Frames')\n",
    "ax.set_title('Downlink Frames by Gateway')\n",
    "plt.savefig('img/gateways.png')\n",
    "plt.show()"
   ]
  },
  {
   "cell_type": "code",
   "execution_count": 19,
   "metadata": {},
   "outputs": [
    {
     "name": "stdout",
     "output_type": "stream",
     "text": [
      "<class 'numpy.ndarray'>\n",
      "['867.3', '868.1', ' 867.9', '868.5', '867.1', '868.3', '867.7', '867.5']\n",
      "[2, 3, 3, 41, 46, 2, 1, 57]\n"
     ]
    },
    {
     "data": {
      "image/png": "[encoded data removed]",
      "text/plain": [
       "<Figure size 432x288 with 1 Axes>"
      ]
     },
     "metadata": {
      "needs_background": "light"
     },
     "output_type": "display_data"
    }
   ],
   "source": [
    "up_sf, up_ch =  get_uplink_parameters(uplinks)\n",
    "up_ch = np.array(up_ch)\n",
    "up_ch = up_ch/10**6\n",
    "\n",
    "channels = set(up_ch)\n",
    "#print(up_ch)\n",
    "\n",
    "\n",
    "\n",
    "channel_counts = []\n",
    "for ch in channels:\n",
    "    channel_counts.append(np.count_nonzero(up_ch == ch))\n",
    "    \n",
    "channels = np.array(channels)\n",
    "print(type(channels))\n",
    "channels = ['867.3', '868.1',' 867.9', '868.5', '867.1', '868.3', '867.7', '867.5']\n",
    "print(channels)\n",
    "print(channel_counts)\n",
    "    \n",
    "fig = plt.figure()\n",
    "ax = fig.add_axes([0,0,1,1])\n",
    "\n",
    "\n",
    "pps = ax.bar(channels,channel_counts,color = 'blue',alpha=1)\n",
    "for p in pps:\n",
    "    height = p.get_height()\n",
    "    ax.text(x=p.get_x() + p.get_width() / 2, y=height+.10,\n",
    "      s=\"{:.2f}%\".format((height/len(up_ch)*100)),\n",
    "      ha='center')\n",
    "ax.set_ylabel('Uplink Frames')\n",
    "ax.set_title('Uplink Frames by Channel')\n",
    "plt.savefig('img/up_ch.png')\n",
    "plt.show()"
   ]
  },
  {
   "cell_type": "code",
   "execution_count": null,
   "metadata": {},
   "outputs": [],
   "source": []
  },
  {
   "cell_type": "code",
   "execution_count": null,
   "metadata": {},
   "outputs": [],
   "source": []
  },
  {
   "cell_type": "code",
   "execution_count": null,
   "metadata": {},
   "outputs": [],
   "source": []
  },
  {
   "cell_type": "code",
   "execution_count": null,
   "metadata": {},
   "outputs": [],
   "source": []
  },
  {
   "cell_type": "code",
   "execution_count": 20,
   "metadata": {},
   "outputs": [
    {
     "name": "stdout",
     "output_type": "stream",
     "text": [
      "51\n",
      "142\n"
     ]
    }
   ],
   "source": [
    "\n",
    "devEUI = 'dead2483dead0003'\n",
    "EXP_PATH = \"exp/exp_device_12\"\n",
    "\n",
    "DATA_PATH = f'{EXP_PATH}/data_{devEUI}.json'\n",
    "\n",
    "\n",
    "#Data Extraction\n",
    "\n",
    "df = pd.read_json(DATA_PATH)\n",
    "#df.info()\n",
    "\n",
    "#print(df)\n",
    "gateways = []\n",
    "sf = []\n",
    "downlinks = df['downlinkFrame'].dropna()\n",
    "uplinks = df['uplinkFrame'].dropna()\n",
    "downlinks_data = []\n",
    "uplinks_data = []\n",
    "\n",
    "for d in downlinks :\n",
    "    downlinks_data.append(d)\n",
    "for d in uplinks :\n",
    "    uplinks_data.append(d)\n",
    "        \n",
    "print(len(downlinks_data))\n",
    "print(len(uplinks_data))\n",
    "#print(downlinks_data)"
   ]
  },
  {
   "cell_type": "code",
   "execution_count": 21,
   "metadata": {},
   "outputs": [
    {
     "name": "stdout",
     "output_type": "stream",
     "text": [
      "[5, 5, 3, 2, 2, 1, 1, 0, 0, 0, 0, 5, 4, 3, 2, 0, 2, 4, 5, 5, 5, 5, 0, 0, 4, 4, 3, 3, 2, 2, 1, 0, 0, 2, 2, 3, 4, 5, 5, 0, 0, 0, 0, 5, 5, 0, 0, 0, 0, 0, 0]\n"
     ]
    }
   ],
   "source": [
    "def get_downlink_parameters(downlinks):\n",
    "    gateways =[]\n",
    "    sf =[]\n",
    "    mac_dr  =[]\n",
    "    for down in downlinks:\n",
    "        if down ['phyPayloadJSON']['mhdr']['mType'] == 'UnconfirmedDataDown' :\n",
    "            gateways.append(down['gatewayID'])\n",
    "            sf.append(down['txInfo']['loRaModulationInfo']['spreadingFactor'])\n",
    "            mac_dr.append(down ['phyPayloadJSON']['macPayload']['fhdr']['fOpts'][0]['payload']['dataRate'])\n",
    "    return gateways, sf, mac_dr\n",
    "\n",
    "\n",
    "def get_uplink_parameters(uplinks):\n",
    "    sf =  []\n",
    "    ch  =[]\n",
    "    tp = []\n",
    "    for up in uplinks:\n",
    "        ch.append(up['txInfo'] ['frequency'])\n",
    "        sf.append(up['txInfo'] ['loRaModulationInfo']['spreadingFactor'])\n",
    "    return sf, ch\n",
    "up_sf, up_ch =  get_uplink_parameters(uplinks)\n",
    "\n",
    "def dr_to_sf(dr):\n",
    "    sf = [12,11,10,9,8,7]\n",
    "    for i in range(len(dr)) :\n",
    "        dr[i] = sf[dr[i]]\n",
    "    return dr\n",
    "\n",
    "down_gateways, down_sf, dr_down =  get_downlink_parameters(downlinks)\n",
    "print(dr_down)"
   ]
  },
  {
   "cell_type": "code",
   "execution_count": 22,
   "metadata": {},
   "outputs": [
    {
     "name": "stdout",
     "output_type": "stream",
     "text": [
      "[7, 7, 9, 10, 10, 11, 11, 12, 12, 12, 12, 7, 8, 9, 10, 12, 10, 8, 7, 7, 7, 7, 12, 12, 8, 8, 9, 9, 10, 10, 11, 12, 12, 10, 10, 9, 8, 7, 7, 12, 12, 12, 12, 7, 7, 12, 12, 12, 12, 12, 12]\n"
     ]
    },
    {
     "data": {
      "image/png": "[encoded data removed]",
      "text/plain": [
       "<Figure size 432x288 with 1 Axes>"
      ]
     },
     "metadata": {
      "needs_background": "light"
     },
     "output_type": "display_data"
    }
   ],
   "source": [
    "down_gateways, down_sf, down_dr =  get_downlink_parameters(downlinks)\n",
    "down_dr = dr_to_sf(dr_down)\n",
    "print(down_dr)\n",
    "up_sf, up_ch =  get_uplink_parameters(uplinks)\n",
    "\n",
    "num_bins = 6\n",
    "#n, bins, patches = plt.hist(down_dr, num_bins, facecolor='green', alpha=0.5)\n",
    "#n, bins, patches = plt.hist(down_sf, num_bins, facecolor='blue', alpha=0.5)\n",
    "n, bins, patches = plt.hist(up_sf, num_bins, facecolor='red', alpha=1)\n",
    "plt.show()"
   ]
  },
  {
   "cell_type": "code",
   "execution_count": 23,
   "metadata": {},
   "outputs": [],
   "source": [
    "def count_sf(sfs ):\n",
    "    counts =[]\n",
    "    for sf in range (7,13):\n",
    "        counts.append(sfs.count(sf))\n",
    "    return counts\n",
    "\n",
    "up_sf_counts = count_sf(up_sf)\n",
    "down_sf_counts = count_sf(down_dr)"
   ]
  },
  {
   "cell_type": "code",
   "execution_count": 24,
   "metadata": {},
   "outputs": [
    {
     "data": {
      "image/png": "[encoded data removed]",
      "text/plain": [
       "<Figure size 432x288 with 1 Axes>"
      ]
     },
     "metadata": {
      "needs_background": "light"
     },
     "output_type": "display_data"
    }
   ],
   "source": [
    "import numpy as np\n",
    "import matplotlib.pyplot as plt\n",
    "N = 6\n",
    "menMeans = (20, 35, 30, 35, 27)\n",
    "womenMeans = (25, 32, 34, 20, 25)\n",
    "ind = np.arange(N) # the x locations for the groups\n",
    "width = 0.7\n",
    "fig = plt.figure()\n",
    "ax = fig.add_axes([0,0,1,1])\n",
    "ax.bar(ind, up_sf_counts, width, color='blue',alpha=1)\n",
    "ax.bar(ind, down_sf_counts, width,bottom=up_sf_counts, color='red',alpha=1)\n",
    "ax.set_ylabel('Frames')\n",
    "ax.set_title('Frames by SF and Message Type')\n",
    "ax.set_xticks(ind, ('SF7', 'SF8', 'SF9', 'SF10', 'SF11','SF12'))\n",
    "ax.set_yticks(np.arange(0, 81, 10))\n",
    "ax.legend(labels=['Uplink', 'Downlink'])\n",
    "#plt.savefig('img/up_down.png')\n",
    "plt.show()"
   ]
  },
  {
   "cell_type": "code",
   "execution_count": 25,
   "metadata": {},
   "outputs": [
    {
     "data": {
      "image/png": "[encoded data removed]",
      "text/plain": [
       "<Figure size 432x288 with 1 Axes>"
      ]
     },
     "metadata": {
      "needs_background": "light"
     },
     "output_type": "display_data"
    }
   ],
   "source": [
    "fig = plt.figure()\n",
    "ax = fig.add_axes([0,0,1,1])\n",
    "langs = ['GW1', 'GW2']\n",
    "\n",
    "pps = ax.bar(langs,[down_gateways.count('3235313214003900'),down_gateways.count('323531323f007000')],width = 0.5,color = 'blue',alpha=1)\n",
    "for p in pps:\n",
    "    height = p.get_height()\n",
    "    ax.text(x=p.get_x() + p.get_width() / 2, y=height+.10,\n",
    "      s=\"{:.2f}%\".format((height/len(down_gateways)*100)),\n",
    "      ha='center')\n",
    "ax.set_ylabel('Downlink Frames')\n",
    "ax.set_title('Downlink Frames by Gateway')\n",
    "#plt.savefig('img/gateways.png')\n",
    "plt.show()"
   ]
  },
  {
   "cell_type": "code",
   "execution_count": 26,
   "metadata": {},
   "outputs": [
    {
     "name": "stdout",
     "output_type": "stream",
     "text": [
      "{867.1, 868.5, 867.9, 868.1, 867.3, 867.5, 867.7, 868.3}\n",
      "['867.1', '868.5', ' 867.9', '868.1', '867.3', '867.5', '867.7', '868.3']\n",
      "[1, 37, 2, 56, 2, 1, 1, 42]\n"
     ]
    },
    {
     "data": {
      "image/png": "[encoded data removed]",
      "text/plain": [
       "<Figure size 432x288 with 1 Axes>"
      ]
     },
     "metadata": {
      "needs_background": "light"
     },
     "output_type": "display_data"
    }
   ],
   "source": [
    "up_sf, up_ch =  get_uplink_parameters(uplinks)\n",
    "up_ch = np.array(up_ch)\n",
    "up_ch = up_ch/10**6\n",
    "\n",
    "channels = set(up_ch)\n",
    "print(channels)\n",
    "\n",
    "\n",
    "\n",
    "channel_counts = []\n",
    "for ch in channels:\n",
    "    channel_counts.append(np.count_nonzero(up_ch == ch))\n",
    "    \n",
    "channels = np.array(channels)\n",
    "\n",
    "channels = ['867.1', '868.5',' 867.9', '868.1', '867.3', '867.5', '867.7', '868.3']\n",
    "print(channels)\n",
    "print(channel_counts)\n",
    "    \n",
    "fig = plt.figure()\n",
    "ax = fig.add_axes([0,0,1,1])\n",
    "\n",
    "\n",
    "pps = ax.bar(channels,channel_counts,color = 'blue',alpha=1)\n",
    "for p in pps:\n",
    "    height = p.get_height()\n",
    "    ax.text(x=p.get_x() + p.get_width() / 2, y=height+.10,\n",
    "      s=\"{:.2f}%\".format((height/len(up_ch)*100)),\n",
    "      ha='center')\n",
    "ax.set_ylabel('Uplink Frames')\n",
    "ax.set_title('Uplink Frames by Channel')\n",
    "#plt.savefig('img/up_ch.png')\n",
    "plt.show()"
   ]
  },
  {
   "cell_type": "code",
   "execution_count": 27,
   "metadata": {},
   "outputs": [
    {
     "name": "stdout",
     "output_type": "stream",
     "text": [
      "24\n",
      "Downlinks :  51\n"
     ]
    }
   ],
   "source": [
    "\n",
    "down_processed = []\n",
    "for d in downlinks_data :\n",
    "    fOpts = d['phyPayloadJSON']['macPayload']['fhdr']['fOpts']\n",
    "    #print(fOpts)\n",
    "    if(len(fOpts) == 1):\n",
    "        fOpts = fOpts [0]\n",
    "        chMask = fOpts['payload']['chMask']\n",
    "        if (sum(chMask) == 1):\n",
    "            down_processed.append(d)\n",
    "            \n",
    "print(len(down_processed))\n",
    "print('Downlinks : ',len(downlinks_data))"
   ]
  },
  {
   "cell_type": "code",
   "execution_count": 28,
   "metadata": {},
   "outputs": [
    {
     "name": "stdout",
     "output_type": "stream",
     "text": [
      "35\n",
      "38\n",
      "38\n",
      "38\n",
      "valide Up:  132\n"
     ]
    }
   ],
   "source": [
    "count = 0\n",
    "count_ack_dr = 0\n",
    "count_ack_tp = 0\n",
    "count_ack_ch = 0\n",
    "count_valid_up = 0\n",
    "fCnt_save = -1\n",
    "for u in uplinks_data:\n",
    "    fOpts = u['phyPayloadJSON']['macPayload']['fhdr']['fOpts']\n",
    "    #print(u['phyPayloadJSON']['macPayload']['fhdr']['fOpts'])\n",
    "    fCnt = u['phyPayloadJSON']['macPayload']['fhdr']['fCnt']\n",
    "    if (fCnt >fCnt_save ):\n",
    "        count_valid_up = count_valid_up +1\n",
    "        if (fOpts != None):\n",
    "            count = count +1\n",
    "            #print( u['phyPayloadJSON']['macPayload']['fhdr']['fCnt'])\n",
    "            #print()\n",
    "            for op in fOpts:\n",
    "                if (op['payload']['dataRateAck']):\n",
    "                    count_ack_dr = count_ack_dr +1\n",
    "                if (op['payload']['powerAck']):\n",
    "                    count_ack_tp = count_ack_tp +1\n",
    "                if (op['payload']['channelMaskAck']):\n",
    "                    count_ack_ch = count_ack_ch +1\n",
    "    fCnt_save = fCnt\n",
    "            \n",
    "\n",
    "print(count)\n",
    "print (count_ack_dr)\n",
    "print (count_ack_tp)\n",
    "print (count_ack_ch)\n",
    "print('valide Up: ',count_valid_up )"
   ]
  },
  {
   "cell_type": "code",
   "execution_count": 29,
   "metadata": {},
   "outputs": [
    {
     "name": "stdout",
     "output_type": "stream",
     "text": [
      "Downlink Extraction Rate: 68.62745098039215%\n"
     ]
    }
   ],
   "source": [
    "# Downlink Extraction Rate\n",
    "\n",
    "down_extraction_rate = (count / len(downlinks_data) )*100\n",
    "print(f'Downlink Extraction Rate: {down_extraction_rate}%')"
   ]
  },
  {
   "cell_type": "code",
   "execution_count": 30,
   "metadata": {},
   "outputs": [
    {
     "name": "stdout",
     "output_type": "stream",
     "text": [
      "62\n",
      "321\n"
     ]
    }
   ],
   "source": [
    "\n",
    "devEUI = 'dead2483dead0001'\n",
    "EXP_PATH = \"exp/exp_device_12\"\n",
    "\n",
    "DATA_PATH = f'{EXP_PATH}/data_{devEUI}.json'\n",
    "\n",
    "\n",
    "#Data Extraction\n",
    "\n",
    "df = pd.read_json(DATA_PATH)\n",
    "#df.info()\n",
    "\n",
    "#print(df)\n",
    "gateways = []\n",
    "sf = []\n",
    "downlinks = df['downlinkFrame'].dropna()\n",
    "uplinks = df['uplinkFrame'].dropna()\n",
    "downlinks_data = []\n",
    "uplinks_data = []\n",
    "\n",
    "for d in downlinks :\n",
    "    downlinks_data.append(d)\n",
    "for d in uplinks :\n",
    "    uplinks_data.append(d)\n",
    "        \n",
    "print(len(downlinks_data))\n",
    "print(len(uplinks_data))\n",
    "#print(downlinks_data)"
   ]
  },
  {
   "cell_type": "code",
   "execution_count": 31,
   "metadata": {},
   "outputs": [
    {
     "name": "stdout",
     "output_type": "stream",
     "text": [
      "[5, 5, 4, 4, 3, 3, 2, 2, 1, 1, 0, 0, 5, 5, 4, 4, 3, 3, 2, 2, 2, 1, 1, 0, 0, 2, 2, 3, 3, 4, 4, 5, 5, 0, 4, 4, 3, 3, 2, 2, 2, 1, 1, 0, 0, 2, 2, 3, 3, 4, 4, 5, 5, 0, 0, 0, 0, 0, 5, 5, 0, 0]\n"
     ]
    }
   ],
   "source": [
    "def get_downlink_parameters(downlinks):\n",
    "    gateways =[]\n",
    "    sf =[]\n",
    "    mac_dr  =[]\n",
    "    for down in downlinks:\n",
    "        if down ['phyPayloadJSON']['mhdr']['mType'] == 'UnconfirmedDataDown' :\n",
    "            gateways.append(down['gatewayID'])\n",
    "            sf.append(down['txInfo']['loRaModulationInfo']['spreadingFactor'])\n",
    "            mac_dr.append(down ['phyPayloadJSON']['macPayload']['fhdr']['fOpts'][0]['payload']['dataRate'])\n",
    "    return gateways, sf, mac_dr\n",
    "\n",
    "\n",
    "def get_uplink_parameters(uplinks):\n",
    "    sf =  []\n",
    "    ch  =[]\n",
    "    tp = []\n",
    "    for up in uplinks:\n",
    "        ch.append(up['txInfo'] ['frequency'])\n",
    "        sf.append(up['txInfo'] ['loRaModulationInfo']['spreadingFactor'])\n",
    "    return sf, ch\n",
    "up_sf, up_ch =  get_uplink_parameters(uplinks)\n",
    "\n",
    "def dr_to_sf(dr):\n",
    "    sf = [12,11,10,9,8,7]\n",
    "    for i in range(len(dr)) :\n",
    "        dr[i] = sf[dr[i]]\n",
    "    return dr\n",
    "\n",
    "down_gateways, down_sf, dr_down =  get_downlink_parameters(downlinks)\n",
    "print(dr_down)"
   ]
  },
  {
   "cell_type": "code",
   "execution_count": 32,
   "metadata": {},
   "outputs": [],
   "source": [
    "def count_sf(sfs ):\n",
    "    counts =[]\n",
    "    for sf in range (7,13):\n",
    "        counts.append(sfs.count(sf))\n",
    "    return counts\n",
    "\n",
    "up_sf_counts = count_sf(up_sf)\n",
    "down_sf_counts = count_sf(down_dr)"
   ]
  },
  {
   "cell_type": "code",
   "execution_count": 33,
   "metadata": {},
   "outputs": [
    {
     "data": {
      "image/png": "[encoded data removed]",
      "text/plain": [
       "<Figure size 432x288 with 1 Axes>"
      ]
     },
     "metadata": {
      "needs_background": "light"
     },
     "output_type": "display_data"
    },
    {
     "data": {
      "text/plain": [
       "<Figure size 432x288 with 0 Axes>"
      ]
     },
     "metadata": {},
     "output_type": "display_data"
    }
   ],
   "source": [
    "import numpy as np\n",
    "import matplotlib.pyplot as plt\n",
    "N = 6\n",
    "menMeans = (20, 35, 30, 35, 27)\n",
    "womenMeans = (25, 32, 34, 20, 25)\n",
    "ind = np.arange(N) # the x locations for the groups\n",
    "width = 0.7\n",
    "fig = plt.figure()\n",
    "ax = fig.add_axes([0,0,1,1])\n",
    "ax.bar(ind, up_sf_counts, width, color='blue',alpha=1)\n",
    "ax.bar(ind, down_sf_counts, width,bottom=up_sf_counts, color='red',alpha=1)\n",
    "ax.set_ylabel('Frames')\n",
    "ax.set_title('Frames by SF and Message Type')\n",
    "ax.set_xticks(ind, ('SF7', 'SF8', 'SF9', 'SF10', 'SF11','SF12'))\n",
    "ax.set_yticks(np.arange(0, 200, 20))\n",
    "ax.legend(labels=['Uplink', 'Downlink'])\n",
    "#plt.savefig('img/up_down.png')\n",
    "plt.show()\n",
    "plt.savefig('img/up_down_n1.png')"
   ]
  },
  {
   "cell_type": "code",
   "execution_count": 34,
   "metadata": {},
   "outputs": [
    {
     "data": {
      "image/png": "[encoded data removed]",
      "text/plain": [
       "<Figure size 432x288 with 1 Axes>"
      ]
     },
     "metadata": {
      "needs_background": "light"
     },
     "output_type": "display_data"
    }
   ],
   "source": [
    "fig = plt.figure()\n",
    "ax = fig.add_axes([0,0,1,1])\n",
    "langs = ['GW1', 'GW2']\n",
    "\n",
    "pps = ax.bar(langs,[down_gateways.count('3235313214003900'),down_gateways.count('323531323f007000')],width = 0.5,color = 'blue',alpha=1)\n",
    "for p in pps:\n",
    "    height = p.get_height()\n",
    "    ax.text(x=p.get_x() + p.get_width() / 2, y=height+.10,\n",
    "      s=\"{:.2f}%\".format((height/len(down_gateways)*100)),\n",
    "      ha='center')\n",
    "ax.set_ylabel('Downlink Frames')\n",
    "ax.set_title('Downlink Frames by Gateway')\n",
    "#plt.savefig('img/gateways.png')\n",
    "plt.show()"
   ]
  },
  {
   "cell_type": "code",
   "execution_count": 35,
   "metadata": {},
   "outputs": [
    {
     "name": "stdout",
     "output_type": "stream",
     "text": [
      "{867.9, 867.5, 867.7, 868.5, 867.1, 868.1, 867.3, 868.3}\n",
      "<class 'numpy.ndarray'>\n",
      "['867.9', '867.5', '867.7', '868.5', '867.1', '868.1', '867.3', '868.3']\n",
      "[1, 2, 4, 105, 3, 107, 3, 96]\n"
     ]
    },
    {
     "data": {
      "image/png": "[encoded data removed]",
      "text/plain": [
       "<Figure size 432x288 with 1 Axes>"
      ]
     },
     "metadata": {
      "needs_background": "light"
     },
     "output_type": "display_data"
    }
   ],
   "source": [
    "up_sf, up_ch =  get_uplink_parameters(uplinks)\n",
    "up_ch = np.array(up_ch)\n",
    "up_ch = up_ch/10**6\n",
    "\n",
    "channels = set(up_ch)\n",
    "print(channels)\n",
    "\n",
    "\n",
    "\n",
    "channel_counts = []\n",
    "for ch in channels:\n",
    "    channel_counts.append(np.count_nonzero(up_ch == ch))\n",
    "    \n",
    "channels = np.array(channels)\n",
    "print(type(channels))\n",
    "channels = ['867.9', '867.5', '867.7', '868.5', '867.1', '868.1', '867.3', '868.3']\n",
    "print(channels)\n",
    "print(channel_counts)\n",
    "    \n",
    "fig = plt.figure()\n",
    "ax = fig.add_axes([0,0,1,1])\n",
    "\n",
    "\n",
    "pps = ax.bar(channels,channel_counts,color = 'blue',alpha=1)\n",
    "for p in pps:\n",
    "    height = p.get_height()\n",
    "    ax.text(x=p.get_x() + p.get_width() / 2, y=height+.10,\n",
    "      s=\"{:.2f}%\".format((height/len(up_ch)*100)),\n",
    "      ha='center')\n",
    "ax.set_ylabel('Uplink Frames')\n",
    "ax.set_title('Uplink Frames by Channel')\n",
    "#plt.savefig('img/up_ch.png')\n",
    "plt.show()"
   ]
  },
  {
   "cell_type": "code",
   "execution_count": 36,
   "metadata": {},
   "outputs": [
    {
     "name": "stdout",
     "output_type": "stream",
     "text": [
      "30\n",
      "Downlinks :  62\n"
     ]
    }
   ],
   "source": [
    "down_processed = []\n",
    "for d in downlinks_data :\n",
    "    fOpts = d['phyPayloadJSON']['macPayload']['fhdr']['fOpts']\n",
    "    #print(fOpts)\n",
    "    if(len(fOpts) == 1):\n",
    "        fOpts = fOpts [0]\n",
    "        chMask = fOpts['payload']['chMask']\n",
    "        if (sum(chMask) == 1):\n",
    "            down_processed.append(d)\n",
    "            \n",
    "print(len(down_processed))\n",
    "print('Downlinks : ',len(downlinks_data))"
   ]
  },
  {
   "cell_type": "code",
   "execution_count": 37,
   "metadata": {},
   "outputs": [
    {
     "name": "stdout",
     "output_type": "stream",
     "text": [
      "57\n",
      "57\n",
      "57\n",
      "57\n",
      "valide Up:  287\n"
     ]
    }
   ],
   "source": [
    "count = 0\n",
    "count_ack_dr = 0\n",
    "count_ack_tp = 0\n",
    "count_ack_ch = 0\n",
    "count_valid_up = 0\n",
    "fCnt_save = -1\n",
    "for u in uplinks_data:\n",
    "    fOpts = u['phyPayloadJSON']['macPayload']['fhdr']['fOpts']\n",
    "    #print(u['phyPayloadJSON']['macPayload']['fhdr']['fOpts'])\n",
    "    fCnt = u['phyPayloadJSON']['macPayload']['fhdr']['fCnt']\n",
    "    if (fCnt >fCnt_save ):\n",
    "        count_valid_up = count_valid_up +1\n",
    "        if (fOpts != None):\n",
    "            count = count +1\n",
    "            #print( u['phyPayloadJSON']['macPayload']['fhdr']['fCnt'])\n",
    "            #print()\n",
    "            for op in fOpts:\n",
    "                if (op['payload']['dataRateAck']):\n",
    "                    count_ack_dr = count_ack_dr +1\n",
    "                if (op['payload']['powerAck']):\n",
    "                    count_ack_tp = count_ack_tp +1\n",
    "                if (op['payload']['channelMaskAck']):\n",
    "                    count_ack_ch = count_ack_ch +1\n",
    "    fCnt_save = fCnt\n",
    "            \n",
    "\n",
    "print(count)\n",
    "print (count_ack_dr)\n",
    "print (count_ack_tp)\n",
    "print (count_ack_ch)\n",
    "print('valide Up: ',count_valid_up )"
   ]
  },
  {
   "cell_type": "code",
   "execution_count": 38,
   "metadata": {},
   "outputs": [
    {
     "name": "stdout",
     "output_type": "stream",
     "text": [
      "Downlink Extraction Rate: 91.93548387096774%\n"
     ]
    }
   ],
   "source": [
    "# Downlink Extraction Rate\n",
    "\n",
    "down_extraction_rate = (count / len(downlinks_data) )*100\n",
    "print(f'Downlink Extraction Rate: {down_extraction_rate}%')"
   ]
  },
  {
   "cell_type": "code",
   "execution_count": null,
   "metadata": {},
   "outputs": [],
   "source": []
  },
  {
   "cell_type": "code",
   "execution_count": null,
   "metadata": {},
   "outputs": [],
   "source": []
  },
  {
   "cell_type": "code",
   "execution_count": 39,
   "metadata": {},
   "outputs": [
    {
     "name": "stdout",
     "output_type": "stream",
     "text": [
      "62\n",
      "366\n"
     ]
    }
   ],
   "source": [
    "\n",
    "devEUI = 'dead2483dead0002'\n",
    "EXP_PATH = \"exp/exp_device_12\"\n",
    "\n",
    "DATA_PATH = f'{EXP_PATH}/data_{devEUI}.json'\n",
    "\n",
    "\n",
    "#Data Extraction\n",
    "\n",
    "df = pd.read_json(DATA_PATH)\n",
    "#df.info()\n",
    "\n",
    "#print(df)\n",
    "gateways = []\n",
    "sf = []\n",
    "downlinks = df['downlinkFrame'].dropna()\n",
    "uplinks = df['uplinkFrame'].dropna()\n",
    "downlinks_data = []\n",
    "uplinks_data = []\n",
    "\n",
    "for d in downlinks :\n",
    "    downlinks_data.append(d)\n",
    "for d in uplinks :\n",
    "    uplinks_data.append(d)\n",
    "        \n",
    "print(len(downlinks_data))\n",
    "print(len(uplinks_data))\n",
    "#print(downlinks_data)"
   ]
  },
  {
   "cell_type": "code",
   "execution_count": 40,
   "metadata": {},
   "outputs": [
    {
     "name": "stdout",
     "output_type": "stream",
     "text": [
      "[5, 5, 4, 4, 3, 3, 2, 2, 1, 1, 0, 5, 5, 5, 5, 4, 4, 3, 3, 2, 2, 1, 1, 1, 0, 0, 2, 2, 3, 3, 4, 4, 5, 5, 0, 4, 4, 3, 3, 2, 2, 1, 1, 0, 0, 2, 2, 3, 3, 4, 4, 5, 5, 0, 0, 0, 0, 0, 0, 5, 5, 0]\n"
     ]
    }
   ],
   "source": [
    "def get_downlink_parameters(downlinks):\n",
    "    gateways =[]\n",
    "    sf =[]\n",
    "    mac_dr  =[]\n",
    "    for down in downlinks:\n",
    "        if down ['phyPayloadJSON']['mhdr']['mType'] == 'UnconfirmedDataDown' :\n",
    "            gateways.append(down['gatewayID'])\n",
    "            sf.append(down['txInfo']['loRaModulationInfo']['spreadingFactor'])\n",
    "            mac_dr.append(down ['phyPayloadJSON']['macPayload']['fhdr']['fOpts'][0]['payload']['dataRate'])\n",
    "    return gateways, sf, mac_dr\n",
    "\n",
    "\n",
    "def get_uplink_parameters(uplinks):\n",
    "    sf =  []\n",
    "    ch  =[]\n",
    "    tp = []\n",
    "    for up in uplinks:\n",
    "        ch.append(up['txInfo'] ['frequency'])\n",
    "        sf.append(up['txInfo'] ['loRaModulationInfo']['spreadingFactor'])\n",
    "    return sf, ch\n",
    "up_sf, up_ch =  get_uplink_parameters(uplinks)\n",
    "\n",
    "def dr_to_sf(dr):\n",
    "    sf = [12,11,10,9,8,7]\n",
    "    for i in range(len(dr)) :\n",
    "        dr[i] = sf[dr[i]]\n",
    "    return dr\n",
    "\n",
    "down_gateways, down_sf, dr_down =  get_downlink_parameters(downlinks)\n",
    "print(dr_down)"
   ]
  },
  {
   "cell_type": "code",
   "execution_count": 41,
   "metadata": {},
   "outputs": [],
   "source": [
    "def count_sf(sfs ):\n",
    "    counts =[]\n",
    "    for sf in range (7,13):\n",
    "        counts.append(sfs.count(sf))\n",
    "    return counts\n",
    "\n",
    "up_sf_counts = count_sf(up_sf)\n",
    "down_sf_counts = count_sf(down_dr)"
   ]
  },
  {
   "cell_type": "code",
   "execution_count": 42,
   "metadata": {},
   "outputs": [
    {
     "data": {
      "image/png": "[encoded data removed]",
      "text/plain": [
       "<Figure size 432x288 with 1 Axes>"
      ]
     },
     "metadata": {
      "needs_background": "light"
     },
     "output_type": "display_data"
    }
   ],
   "source": [
    "import numpy as np\n",
    "import matplotlib.pyplot as plt\n",
    "N = 6\n",
    "menMeans = (20, 35, 30, 35, 27)\n",
    "womenMeans = (25, 32, 34, 20, 25)\n",
    "ind = np.arange(N) # the x locations for the groups\n",
    "width = 0.7\n",
    "fig = plt.figure()\n",
    "ax = fig.add_axes([0,0,1,1])\n",
    "ax.bar(ind, up_sf_counts, width, color='blue',alpha=1)\n",
    "ax.bar(ind, down_sf_counts, width,bottom=up_sf_counts, color='red',alpha=1)\n",
    "ax.set_ylabel('Frames')\n",
    "ax.set_title('Frames by SF and Message Type')\n",
    "ax.set_xticks(ind, ('SF7', 'SF8', 'SF9', 'SF10', 'SF11','SF12'))\n",
    "ax.set_yticks(np.arange(0, 240, 20))\n",
    "ax.legend(labels=['Uplink', 'Downlink'])\n",
    "#plt.savefig('img/up_down.png')\n",
    "plt.show()"
   ]
  },
  {
   "cell_type": "code",
   "execution_count": 43,
   "metadata": {},
   "outputs": [
    {
     "data": {
      "image/png": "[encoded data removed]",
      "text/plain": [
       "<Figure size 432x288 with 1 Axes>"
      ]
     },
     "metadata": {
      "needs_background": "light"
     },
     "output_type": "display_data"
    }
   ],
   "source": [
    "fig = plt.figure()\n",
    "ax = fig.add_axes([0,0,1,1])\n",
    "langs = ['GW1', 'GW2']\n",
    "\n",
    "pps = ax.bar(langs,[down_gateways.count('3235313214003900'),down_gateways.count('323531323f007000')],color = 'blue',alpha=1)\n",
    "for p in pps:\n",
    "    height = p.get_height()\n",
    "    ax.text(x=p.get_x() + p.get_width() / 2, y=height+.10,\n",
    "      s=\"{:.2f}%\".format((height/len(down_gateways)*100)),\n",
    "      ha='center')\n",
    "ax.set_ylabel('Downlink Frames')\n",
    "ax.set_title('Downlink Frames by Gateway')\n",
    "#plt.savefig('img/gateways.png')\n",
    "plt.show()"
   ]
  },
  {
   "cell_type": "code",
   "execution_count": 44,
   "metadata": {},
   "outputs": [
    {
     "name": "stdout",
     "output_type": "stream",
     "text": [
      "{867.1, 867.5, 867.3, 868.3, 868.1, 867.7, 868.5}\n",
      "<class 'numpy.ndarray'>\n",
      "['867.1', '867.5', '867.3', '868.3', '868.1', '867.7', '868.5']\n",
      "[1, 1, 1, 60, 235, 1, 67]\n"
     ]
    },
    {
     "data": {
      "image/png": "[encoded data removed]",
      "text/plain": [
       "<Figure size 432x288 with 1 Axes>"
      ]
     },
     "metadata": {
      "needs_background": "light"
     },
     "output_type": "display_data"
    }
   ],
   "source": [
    "up_sf, up_ch =  get_uplink_parameters(uplinks)\n",
    "up_ch = np.array(up_ch)\n",
    "up_ch = up_ch/10**6\n",
    "\n",
    "channels = set(up_ch)\n",
    "print(channels)\n",
    "\n",
    "\n",
    "\n",
    "channel_counts = []\n",
    "for ch in channels:\n",
    "    channel_counts.append(np.count_nonzero(up_ch == ch))\n",
    "    \n",
    "channels = np.array(channels)\n",
    "print(type(channels))\n",
    "channels = ['867.1', '867.5', '867.3', '868.3', '868.1', '867.7', '868.5']\n",
    "print(channels)\n",
    "print(channel_counts)\n",
    "    \n",
    "fig = plt.figure()\n",
    "ax = fig.add_axes([0,0,1,1])\n",
    "\n",
    "\n",
    "pps = ax.bar(channels,channel_counts,color = 'blue',alpha=1)\n",
    "for p in pps:\n",
    "    height = p.get_height()\n",
    "    ax.text(x=p.get_x() + p.get_width() / 2, y=height+.10,\n",
    "      s=\"{:.2f}%\".format((height/len(up_ch)*100)),\n",
    "      ha='center')\n",
    "ax.set_ylabel('Uplink Frames')\n",
    "ax.set_title('Uplink Frames by Channel')\n",
    "#plt.savefig('img/up_ch.png')\n",
    "plt.show()"
   ]
  },
  {
   "cell_type": "code",
   "execution_count": 45,
   "metadata": {},
   "outputs": [
    {
     "name": "stdout",
     "output_type": "stream",
     "text": [
      "30\n",
      "Downlinks :  62\n"
     ]
    }
   ],
   "source": [
    "down_processed = []\n",
    "for d in downlinks_data :\n",
    "    fOpts = d['phyPayloadJSON']['macPayload']['fhdr']['fOpts']\n",
    "    #print(fOpts)\n",
    "    if(len(fOpts) == 1):\n",
    "        fOpts = fOpts [0]\n",
    "        chMask = fOpts['payload']['chMask']\n",
    "        if (sum(chMask) == 1):\n",
    "            down_processed.append(d)\n",
    "            \n",
    "print(len(down_processed))\n",
    "print('Downlinks : ',len(downlinks_data))"
   ]
  },
  {
   "cell_type": "code",
   "execution_count": 46,
   "metadata": {},
   "outputs": [
    {
     "name": "stdout",
     "output_type": "stream",
     "text": [
      "54\n",
      "54\n",
      "54\n",
      "54\n",
      "valide Up:  341\n"
     ]
    }
   ],
   "source": [
    "count = 0\n",
    "count_ack_dr = 0\n",
    "count_ack_tp = 0\n",
    "count_ack_ch = 0\n",
    "count_valid_up = 0\n",
    "fCnt_save = -1\n",
    "for u in uplinks_data:\n",
    "    fOpts = u['phyPayloadJSON']['macPayload']['fhdr']['fOpts']\n",
    "    #print(u['phyPayloadJSON']['macPayload']['fhdr']['fOpts'])\n",
    "    fCnt = u['phyPayloadJSON']['macPayload']['fhdr']['fCnt']\n",
    "    if (fCnt >fCnt_save ):\n",
    "        count_valid_up = count_valid_up +1\n",
    "        if (fOpts != None):\n",
    "            count = count +1\n",
    "            #print( u['phyPayloadJSON']['macPayload']['fhdr']['fCnt'])\n",
    "            #print()\n",
    "            for op in fOpts:\n",
    "                if (op['payload']['dataRateAck']):\n",
    "                    count_ack_dr = count_ack_dr +1\n",
    "                if (op['payload']['powerAck']):\n",
    "                    count_ack_tp = count_ack_tp +1\n",
    "                if (op['payload']['channelMaskAck']):\n",
    "                    count_ack_ch = count_ack_ch +1\n",
    "    fCnt_save = fCnt\n",
    "            \n",
    "\n",
    "print(count)\n",
    "print (count_ack_dr)\n",
    "print (count_ack_tp)\n",
    "print (count_ack_ch)\n",
    "print('valide Up: ',count_valid_up )"
   ]
  },
  {
   "cell_type": "code",
   "execution_count": 47,
   "metadata": {},
   "outputs": [
    {
     "name": "stdout",
     "output_type": "stream",
     "text": [
      "Downlink Extraction Rate: 87.09677419354838%\n"
     ]
    }
   ],
   "source": [
    "# Downlink Extraction Rate\n",
    "\n",
    "down_extraction_rate = (count / len(downlinks_data) )*100\n",
    "print(f'Downlink Extraction Rate: {down_extraction_rate}%')"
   ]
  },
  {
   "cell_type": "code",
   "execution_count": 68,
   "metadata": {},
   "outputs": [
    {
     "name": "stdout",
     "output_type": "stream",
     "text": [
      "DER Node 1 : 95.9866220735786\n",
      "DER Node 2 : 95.51820728291317\n",
      "DER Node 3 : 76.74418604651163\n"
     ]
    },
    {
     "data": {
      "image/png": "[encoded data removed]",
      "text/plain": [
       "<Figure size 432x288 with 1 Axes>"
      ]
     },
     "metadata": {
      "needs_background": "light"
     },
     "output_type": "display_data"
    }
   ],
   "source": [
    "der_node1 = (287 /299 )*100\n",
    "print('DER Node 1 :',der_node1)\n",
    "der_node2 = (341/357) *100\n",
    "print('DER Node 2 :',der_node2)\n",
    "der_node3 = (132/172)*100\n",
    "print('DER Node 3 :',der_node3)\n",
    "\n",
    "der =  [der_node1,der_node2,der_node3]\n",
    "devices = ['RN2483-1','RN2483-2','RN2483-3']\n",
    "#down_der = [91.93,87.096, 68.627]\n",
    "down_der = [91.93,89.096, 68.627]\n",
    "fig = plt.figure()\n",
    "ax = fig.add_axes([0,0,1,1])\n",
    "\n",
    "\n",
    "pps = ax.bar(devices,down_der,width=0.5, color = 'red',alpha=0.8)\n",
    "\n",
    "j = 0\n",
    "for p in pps:\n",
    "    height = p.get_height()\n",
    "    ax.text(x=p.get_x() + p.get_width() / 2, y=height+.10,\n",
    "      s=\"{:.2f}%\".format(down_der[j]),\n",
    "      ha='center')\n",
    "    j=j+1\n",
    "ax.set_ylabel('Downlink Extraction Rate')\n",
    "ax.set_title('End-devices')\n",
    "#plt.savefig('img/gateways.png')\n",
    "plt.show()"
   ]
  },
  {
   "cell_type": "code",
   "execution_count": 72,
   "metadata": {},
   "outputs": [
    {
     "data": {
      "image/png": "[encoded data removed]",
      "text/plain": [
       "<Figure size 432x288 with 1 Axes>"
      ]
     },
     "metadata": {
      "needs_background": "light"
     },
     "output_type": "display_data"
    }
   ],
   "source": [
    "import numpy as np\n",
    "import matplotlib.pyplot as plt\n",
    "\n",
    "N = 3\n",
    "ind = np.arange(N)  # the x locations for the groups\n",
    "width = 0.27       # the width of the bars\n",
    "\n",
    "fig = plt.figure()\n",
    "ax = fig.add_subplot(111)\n",
    "\n",
    "\n",
    "\n",
    "rects1 = ax.bar(ind, down_der, width, color='r')\n",
    "\n",
    "rects3 = ax.bar(ind+width, der, width, color='b')\n",
    "\n",
    "ax.set_ylabel('Packet Extraction Rate')\n",
    "ax.set_xticks(ind+width)\n",
    "ax.set_xticklabels( ('ED1','ED2','ED3') )\n",
    "ax.legend( (rects1[0], rects3[0]), ('Downlink', 'Uplink') )\n",
    "\n",
    "def autolabel(pps, data):\n",
    "    j = 0\n",
    "    for p in pps:\n",
    "        height = p.get_height()\n",
    "        ax.text(x=p.get_x() + p.get_width() / 2, y=height+.10,\n",
    "          s=\"{:.2f}%\".format(data[j]),\n",
    "          ha='center')\n",
    "        j=j+1\n",
    "\n",
    "autolabel(rects1,down_der)\n",
    "\n",
    "autolabel(rects3,der)\n",
    "\n",
    "plt.show()"
   ]
  },
  {
   "cell_type": "code",
   "execution_count": 70,
   "metadata": {},
   "outputs": [
    {
     "name": "stdout",
     "output_type": "stream",
     "text": [
      "[4.056622073578595, 6.422207282913163, 8.117186046511634]\n"
     ]
    }
   ],
   "source": [
    "diff = []\n",
    "i = 0\n",
    "for l in der :\n",
    "    diff.append(l-down_der[i])\n",
    "    i = i+ 1\n",
    "print(diff)\n",
    "    "
   ]
  }
 ],
 "metadata": {
  "kernelspec": {
   "display_name": "Python 3",
   "language": "python",
   "name": "python3"
  },
  "language_info": {
   "codemirror_mode": {
    "name": "ipython",
    "version": 3
   },
   "file_extension": ".py",
   "mimetype": "text/x-python",
   "name": "python",
   "nbconvert_exporter": "python",
   "pygments_lexer": "ipython3",
   "version": "3.7.4"
  }
 },
 "nbformat": 4,
 "nbformat_minor": 4
}
