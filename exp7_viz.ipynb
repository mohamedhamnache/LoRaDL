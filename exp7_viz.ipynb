{
 "cells": [
  {
   "cell_type": "code",
   "execution_count": 1,
   "metadata": {},
   "outputs": [],
   "source": [
    "# Imports\n",
    "import json\n",
    "import pandas as pd\n",
    "import matplotlib.mlab as mlab\n",
    "import matplotlib.pyplot as plt\n",
    "import numpy as np"
   ]
  },
  {
   "cell_type": "code",
   "execution_count": 2,
   "metadata": {
    "tags": []
   },
   "outputs": [
    {
     "name": "stdout",
     "output_type": "stream",
     "text": [
      "35\n",
      "155\n"
     ]
    }
   ],
   "source": [
    "\n",
    "devEUI = 'dead2483dead0003'\n",
    "EXP_PATH = \"exp/exp_device_7\"\n",
    "\n",
    "DATA_PATH = f'{EXP_PATH}/data_{devEUI}.json'\n",
    "\n",
    "\n",
    "#Data Extraction\n",
    "\n",
    "df = pd.read_json(DATA_PATH)\n",
    "#df.info()\n",
    "\n",
    "#print(df)\n",
    "gateways = []\n",
    "sf = []\n",
    "downlinks = df['downlinkFrame'].dropna()\n",
    "uplinks = df['uplinkFrame'].dropna()\n",
    "downlinks_data = []\n",
    "uplinks_data = []\n",
    "\n",
    "for d in downlinks :\n",
    "    downlinks_data.append(d)\n",
    "for d in uplinks :\n",
    "    uplinks_data.append(d)\n",
    "        \n",
    "print(len(downlinks_data))\n",
    "print(len(uplinks_data))\n",
    "#print(downlinks_data)"
   ]
  },
  {
   "cell_type": "code",
   "execution_count": 3,
   "metadata": {},
   "outputs": [
    {
     "name": "stdout",
     "output_type": "stream",
     "text": [
      "[5, 5, 4, 4, 3, 2, 2, 2, 2, 1, 1, 0, 5, 5, 5, 5, 3, 2, 2, 1, 0, 0, 2, 2, 2, 3, 3, 5, 5, 0, 0, 5, 5, 0, 0]\n"
     ]
    }
   ],
   "source": [
    "def get_downlink_parameters(downlinks):\n",
    "    gateways =[]\n",
    "    sf =[]\n",
    "    mac_dr  =[]\n",
    "    for down in downlinks:\n",
    "        if down ['phyPayloadJSON']['mhdr']['mType'] == 'UnconfirmedDataDown' :\n",
    "            gateways.append(down['gatewayID'])\n",
    "            sf.append(down['txInfo']['loRaModulationInfo']['spreadingFactor'])\n",
    "            mac_dr.append(down ['phyPayloadJSON']['macPayload']['fhdr']['fOpts'][0]['payload']['dataRate'])\n",
    "    return gateways, sf, mac_dr\n",
    "\n",
    "\n",
    "def get_uplink_parameters(uplinks):\n",
    "    sf =  []\n",
    "    ch  =[]\n",
    "    tp = []\n",
    "    for up in uplinks:\n",
    "        ch.append(up['txInfo'] ['frequency'])\n",
    "        sf.append(up['txInfo'] ['loRaModulationInfo']['spreadingFactor'])\n",
    "    return sf, ch\n",
    "up_sf, up_ch =  get_uplink_parameters(uplinks)\n",
    "\n",
    "def dr_to_sf(dr):\n",
    "    sf = [12,11,10,9,8,7]\n",
    "    for i in range(len(dr)) :\n",
    "        dr[i] = sf[dr[i]]\n",
    "    return dr\n",
    "\n",
    "down_gateways, down_sf, dr_down =  get_downlink_parameters(downlinks)\n",
    "print(dr_down)"
   ]
  },
  {
   "cell_type": "code",
   "execution_count": 4,
   "metadata": {},
   "outputs": [
    {
     "name": "stdout",
     "output_type": "stream",
     "text": [
      "[7, 7, 8, 8, 9, 10, 10, 10, 10, 11, 11, 12, 7, 7, 7, 7, 9, 10, 10, 11, 12, 12, 10, 10, 10, 9, 9, 7, 7, 12, 12, 7, 7, 12, 12]\n"
     ]
    },
    {
     "data": {
      "image/png": "[encoded data removed]",
      "text/plain": [
       "<Figure size 432x288 with 1 Axes>"
      ]
     },
     "metadata": {
      "needs_background": "light"
     },
     "output_type": "display_data"
    }
   ],
   "source": [
    "down_gateways, down_sf, down_dr =  get_downlink_parameters(downlinks)\n",
    "down_dr = dr_to_sf(dr_down)\n",
    "print(down_dr)\n",
    "up_sf, up_ch =  get_uplink_parameters(uplinks)\n",
    "\n",
    "num_bins = 6\n",
    "#n, bins, patches = plt.hist(down_dr, num_bins, facecolor='green', alpha=0.5)\n",
    "#n, bins, patches = plt.hist(down_sf, num_bins, facecolor='blue', alpha=0.5)\n",
    "n, bins, patches = plt.hist(up_sf, num_bins, facecolor='red', alpha=0.5)\n",
    "plt.show()"
   ]
  },
  {
   "cell_type": "code",
   "execution_count": 5,
   "metadata": {},
   "outputs": [],
   "source": [
    "def count_sf(sfs ):\n",
    "    counts =[]\n",
    "    for sf in range (7,13):\n",
    "        counts.append(sfs.count(sf))\n",
    "    return counts\n",
    "\n",
    "up_sf_counts = count_sf(up_sf)\n",
    "down_sf_counts = count_sf(down_dr)"
   ]
  },
  {
   "cell_type": "code",
   "execution_count": 6,
   "metadata": {},
   "outputs": [
    {
     "data": {
      "image/png": "[encoded data removed]",
      "text/plain": [
       "<Figure size 432x288 with 1 Axes>"
      ]
     },
     "metadata": {
      "needs_background": "light"
     },
     "output_type": "display_data"
    }
   ],
   "source": [
    "N = 6\n",
    "menMeans = (20, 35, 30, 35, 27)\n",
    "womenMeans = (25, 32, 34, 20, 25)\n",
    "ind = np.arange(N) # the x locations for the groups\n",
    "width = 0.7\n",
    "fig = plt.figure()\n",
    "ax = fig.add_axes([0,0,1,1])\n",
    "ax.bar(ind, up_sf_counts, width, color='blue',alpha=0.5)\n",
    "ax.bar(ind, down_sf_counts, width,bottom=up_sf_counts, color='red',alpha=1)\n",
    "ax.set_ylabel('Frames')\n",
    "ax.set_title('Frames by SF and Message Type')\n",
    "ax.set_xticks(ind, ('SF7', 'SF8', 'SF9', 'SF10', 'SF11','SF12'))\n",
    "ax.set_yticks(np.arange(0, 81, 10))\n",
    "ax.legend(labels=['Uplink', 'Downlink'])\n",
    "plt.savefig('img/up_down.png')\n",
    "plt.show()"
   ]
  },
  {
   "cell_type": "code",
   "execution_count": 7,
   "metadata": {},
   "outputs": [
    {
     "data": {
      "image/png": "[encoded data removed]",
      "text/plain": [
       "<Figure size 432x288 with 1 Axes>"
      ]
     },
     "metadata": {
      "needs_background": "light"
     },
     "output_type": "display_data"
    }
   ],
   "source": [
    "fig = plt.figure()\n",
    "ax = fig.add_axes([0,0,1,1])\n",
    "langs = ['GW1', 'GW2']\n",
    "\n",
    "pps = ax.bar(langs,[down_gateways.count('3235313214003900'),down_gateways.count('323531323f007000')],color = 'blue',alpha=0.5)\n",
    "for p in pps:\n",
    "    height = p.get_height()\n",
    "    ax.text(x=p.get_x() + p.get_width() / 2, y=height+.10,\n",
    "      s=\"{:.2f}%\".format((height/len(down_gateways)*100)),\n",
    "      ha='center')\n",
    "ax.set_ylabel('Downlink Frames')\n",
    "ax.set_title('Downlink Frames by Gateway')\n",
    "plt.savefig('img/gateways.png')\n",
    "plt.show()"
   ]
  },
  {
   "cell_type": "code",
   "execution_count": 8,
   "metadata": {},
   "outputs": [
    {
     "name": "stdout",
     "output_type": "stream",
     "text": [
      "<class 'numpy.ndarray'>\n",
      "['867.3', '868.1', ' 867.9', '868.5', '867.1', '868.3', '867.7', '867.5']\n",
      "[2, 3, 3, 41, 46, 2, 1, 57]\n"
     ]
    },
    {
     "data": {
      "image/png": "[encoded data removed]",
      "text/plain": [
       "<Figure size 432x288 with 1 Axes>"
      ]
     },
     "metadata": {
      "needs_background": "light"
     },
     "output_type": "display_data"
    }
   ],
   "source": [
    "up_sf, up_ch =  get_uplink_parameters(uplinks)\n",
    "up_ch = np.array(up_ch)\n",
    "up_ch = up_ch/10**6\n",
    "\n",
    "channels = set(up_ch)\n",
    "#print(up_ch)\n",
    "\n",
    "\n",
    "\n",
    "channel_counts = []\n",
    "for ch in channels:\n",
    "    channel_counts.append(np.count_nonzero(up_ch == ch))\n",
    "    \n",
    "channels = np.array(channels)\n",
    "print(type(channels))\n",
    "channels = ['867.3', '868.1',' 867.9', '868.5', '867.1', '868.3', '867.7', '867.5']\n",
    "print(channels)\n",
    "print(channel_counts)\n",
    "    \n",
    "fig = plt.figure()\n",
    "ax = fig.add_axes([0,0,1,1])\n",
    "\n",
    "\n",
    "pps = ax.bar(channels,channel_counts,color = 'blue',alpha=0.5)\n",
    "for p in pps:\n",
    "    height = p.get_height()\n",
    "    ax.text(x=p.get_x() + p.get_width() / 2, y=height+.10,\n",
    "      s=\"{:.2f}%\".format((height/len(up_ch)*100)),\n",
    "      ha='center')\n",
    "ax.set_ylabel('Uplink Frames')\n",
    "ax.set_title('Uplink Frames by Channel')\n",
    "plt.savefig('img/up_ch.png')\n",
    "plt.show()"
   ]
  },
  {
   "cell_type": "code",
   "execution_count": 9,
   "metadata": {},
   "outputs": [
    {
     "name": "stdout",
     "output_type": "stream",
     "text": [
      "15\n",
      "Downlinks :  35\n"
     ]
    }
   ],
   "source": [
    "\n",
    "down_processed = []\n",
    "for d in downlinks_data :\n",
    "    fOpts = d['phyPayloadJSON']['macPayload']['fhdr']['fOpts']\n",
    "    #print(fOpts)\n",
    "    if(len(fOpts) == 1):\n",
    "        fOpts = fOpts [0]\n",
    "        chMask = fOpts['payload']['chMask']\n",
    "        if (sum(chMask) == 1):\n",
    "            down_processed.append(d)\n",
    "            \n",
    "print(len(down_processed))\n",
    "print('Downlinks : ',len(downlinks_data))"
   ]
  },
  {
   "cell_type": "code",
   "execution_count": 10,
   "metadata": {},
   "outputs": [
    {
     "name": "stdout",
     "output_type": "stream",
     "text": [
      "28\n",
      "29\n",
      "27\n",
      "29\n"
     ]
    }
   ],
   "source": [
    "count = 0\n",
    "count_ack_dr = 0\n",
    "count_ack_tp = 0\n",
    "count_ack_ch = 0\n",
    "for u in uplinks_data:\n",
    "    fOpts = u['phyPayloadJSON']['macPayload']['fhdr']['fOpts']\n",
    "    #print(u['phyPayloadJSON']['macPayload']['fhdr']['fOpts']) \n",
    "    if (fOpts != None):\n",
    "        count = count +1\n",
    "        for op in fOpts:\n",
    "            if (op['payload']['dataRateAck']):\n",
    "                count_ack_dr = count_ack_dr +1\n",
    "            if (op['payload']['powerAck']):\n",
    "                count_ack_tp = count_ack_tp +1\n",
    "            if (op['payload']['channelMaskAck']):\n",
    "                count_ack_ch = count_ack_ch +1\n",
    "            \n",
    "\n",
    "print(count)\n",
    "print (count_ack_dr)\n",
    "print (count_ack_tp)\n",
    "print (count_ack_ch)"
   ]
  },
  {
   "cell_type": "code",
   "execution_count": 11,
   "metadata": {},
   "outputs": [
    {
     "name": "stdout",
     "output_type": "stream",
     "text": [
      "Downlink Extraction Rate: 80.0%\n"
     ]
    }
   ],
   "source": [
    "# Downlink Extraction Rate\n",
    "\n",
    "down_extraction_rate = (count / len(downlinks_data) )*100\n",
    "print(f'Downlink Extraction Rate: {down_extraction_rate}%')"
   ]
  },
  {
   "cell_type": "code",
   "execution_count": null,
   "metadata": {},
   "outputs": [],
   "source": []
  },
  {
   "cell_type": "code",
   "execution_count": 12,
   "metadata": {
    "tags": []
   },
   "outputs": [
    {
     "name": "stdout",
     "output_type": "stream",
     "text": [
      "39\n",
      "234\n"
     ]
    }
   ],
   "source": [
    "\n",
    "devEUI = 'dead2483dead0001'\n",
    "EXP_PATH = \"exp/exp_device_7\"\n",
    "\n",
    "DATA_PATH = f'{EXP_PATH}/data_{devEUI}.json'\n",
    "\n",
    "\n",
    "#Data Extraction\n",
    "\n",
    "df = pd.read_json(DATA_PATH)\n",
    "#df.info()\n",
    "\n",
    "#print(df)\n",
    "gateways = []\n",
    "sf = []\n",
    "downlinks = df['downlinkFrame'].dropna()\n",
    "uplinks = df['uplinkFrame'].dropna()\n",
    "downlinks_data = []\n",
    "uplinks_data = []\n",
    "\n",
    "for d in downlinks :\n",
    "    downlinks_data.append(d)\n",
    "for d in uplinks :\n",
    "    uplinks_data.append(d)\n",
    "        \n",
    "print(len(downlinks_data))\n",
    "print(len(uplinks_data))\n",
    "#print(downlinks_data)"
   ]
  },
  {
   "cell_type": "code",
   "execution_count": 13,
   "metadata": {},
   "outputs": [
    {
     "name": "stdout",
     "output_type": "stream",
     "text": [
      "[5, 5, 4, 4, 3, 3, 2, 2, 1, 1, 1, 0, 0, 5, 5, 4, 4, 3, 3, 2, 2, 1, 1, 0, 0, 2, 2, 3, 3, 5, 5, 0, 0, 0, 0, 5, 5, 0, 0]\n"
     ]
    }
   ],
   "source": [
    "def get_downlink_parameters(downlinks):\n",
    "    gateways =[]\n",
    "    sf =[]\n",
    "    mac_dr  =[]\n",
    "    for down in downlinks:\n",
    "        if down ['phyPayloadJSON']['mhdr']['mType'] == 'UnconfirmedDataDown' :\n",
    "            gateways.append(down['gatewayID'])\n",
    "            sf.append(down['txInfo']['loRaModulationInfo']['spreadingFactor'])\n",
    "            mac_dr.append(down ['phyPayloadJSON']['macPayload']['fhdr']['fOpts'][0]['payload']['dataRate'])\n",
    "    return gateways, sf, mac_dr\n",
    "\n",
    "\n",
    "def get_uplink_parameters(uplinks):\n",
    "    sf =  []\n",
    "    ch  =[]\n",
    "    tp = []\n",
    "    for up in uplinks:\n",
    "        ch.append(up['txInfo'] ['frequency'])\n",
    "        sf.append(up['txInfo'] ['loRaModulationInfo']['spreadingFactor'])\n",
    "    return sf, ch\n",
    "up_sf, up_ch =  get_uplink_parameters(uplinks)\n",
    "\n",
    "def dr_to_sf(dr):\n",
    "    sf = [12,11,10,9,8,7]\n",
    "    for i in range(len(dr)) :\n",
    "        dr[i] = sf[dr[i]]\n",
    "    return dr\n",
    "\n",
    "down_gateways, down_sf, dr_down =  get_downlink_parameters(downlinks)\n",
    "print(dr_down)"
   ]
  },
  {
   "cell_type": "code",
   "execution_count": 14,
   "metadata": {},
   "outputs": [
    {
     "name": "stdout",
     "output_type": "stream",
     "text": [
      "[7, 7, 8, 8, 9, 9, 10, 10, 11, 11, 11, 12, 12, 7, 7, 8, 8, 9, 9, 10, 10, 11, 11, 12, 12, 10, 10, 9, 9, 7, 7, 12, 12, 12, 12, 7, 7, 12, 12]\n"
     ]
    },
    {
     "data": {
      "image/png": "[encoded data removed]",
      "text/plain": [
       "<Figure size 432x288 with 1 Axes>"
      ]
     },
     "metadata": {
      "needs_background": "light"
     },
     "output_type": "display_data"
    }
   ],
   "source": [
    "down_gateways, down_sf, down_dr =  get_downlink_parameters(downlinks)\n",
    "down_dr = dr_to_sf(dr_down)\n",
    "print(down_dr)\n",
    "up_sf, up_ch =  get_uplink_parameters(uplinks)\n",
    "\n",
    "num_bins = 6\n",
    "#n, bins, patches = plt.hist(down_dr, num_bins, facecolor='green', alpha=0.5)\n",
    "#n, bins, patches = plt.hist(down_sf, num_bins, facecolor='blue', alpha=0.5)\n",
    "n, bins, patches = plt.hist(up_sf, num_bins, facecolor='red', alpha=0.5)\n",
    "plt.show()"
   ]
  },
  {
   "cell_type": "code",
   "execution_count": 15,
   "metadata": {},
   "outputs": [],
   "source": [
    "def count_sf(sfs ):\n",
    "    counts =[]\n",
    "    for sf in range (7,13):\n",
    "        counts.append(sfs.count(sf))\n",
    "    return counts\n",
    "\n",
    "up_sf_counts = count_sf(up_sf)\n",
    "down_sf_counts = count_sf(down_dr)"
   ]
  },
  {
   "cell_type": "code",
   "execution_count": 16,
   "metadata": {},
   "outputs": [
    {
     "data": {
      "image/png": "[encoded data removed]",
      "text/plain": [
       "<Figure size 432x288 with 1 Axes>"
      ]
     },
     "metadata": {
      "needs_background": "light"
     },
     "output_type": "display_data"
    }
   ],
   "source": [
    "N = 6\n",
    "menMeans = (20, 35, 30, 35, 27)\n",
    "womenMeans = (25, 32, 34, 20, 25)\n",
    "ind = np.arange(N) # the x locations for the groups\n",
    "width = 0.7\n",
    "fig = plt.figure()\n",
    "ax = fig.add_axes([0,0,1,1])\n",
    "ax.bar(ind, up_sf_counts, width, color='blue',alpha=0.5)\n",
    "ax.bar(ind, down_sf_counts, width,bottom=up_sf_counts, color='red',alpha=1)\n",
    "ax.set_ylabel('Frames')\n",
    "ax.set_title('Frames by SF and Message Type')\n",
    "ax.set_xticks(ind, ('SF7', 'SF8', 'SF9', 'SF10', 'SF11','SF12'))\n",
    "ax.set_yticks(np.arange(0, 81, 10))\n",
    "ax.legend(labels=['Uplink', 'Downlink'])\n",
    "plt.savefig('img/up_down.png')\n",
    "plt.show()"
   ]
  },
  {
   "cell_type": "code",
   "execution_count": 17,
   "metadata": {},
   "outputs": [
    {
     "data": {
      "image/png": "[encoded data removed]",
      "text/plain": [
       "<Figure size 432x288 with 1 Axes>"
      ]
     },
     "metadata": {
      "needs_background": "light"
     },
     "output_type": "display_data"
    }
   ],
   "source": [
    "fig = plt.figure()\n",
    "ax = fig.add_axes([0,0,1,1])\n",
    "langs = ['GW1', 'GW2']\n",
    "\n",
    "pps = ax.bar(langs,[down_gateways.count('3235313214003900'),down_gateways.count('323531323f007000')],color = 'blue',alpha=0.5)\n",
    "for p in pps:\n",
    "    height = p.get_height()\n",
    "    ax.text(x=p.get_x() + p.get_width() / 2, y=height+.10,\n",
    "      s=\"{:.2f}%\".format((height/len(down_gateways)*100)),\n",
    "      ha='center')\n",
    "ax.set_ylabel('Downlink Frames')\n",
    "ax.set_title('Downlink Frames by Gateway')\n",
    "plt.savefig('img/gateways.png')\n",
    "plt.show()"
   ]
  },
  {
   "cell_type": "code",
   "execution_count": 18,
   "metadata": {},
   "outputs": [
    {
     "name": "stdout",
     "output_type": "stream",
     "text": [
      "<class 'numpy.ndarray'>\n",
      "['867.3', '868.1', ' 867.9', '868.5', '867.1', '868.3', '867.7', '867.5']\n",
      "[4, 82, 3, 5, 62, 3, 3, 72]\n"
     ]
    },
    {
     "data": {
      "image/png": "[encoded data removed]",
      "text/plain": [
       "<Figure size 432x288 with 1 Axes>"
      ]
     },
     "metadata": {
      "needs_background": "light"
     },
     "output_type": "display_data"
    }
   ],
   "source": [
    "up_sf, up_ch =  get_uplink_parameters(uplinks)\n",
    "up_ch = np.array(up_ch)\n",
    "up_ch = up_ch/10**6\n",
    "\n",
    "channels = set(up_ch)\n",
    "#print(up_ch)\n",
    "\n",
    "\n",
    "\n",
    "channel_counts = []\n",
    "for ch in channels:\n",
    "    channel_counts.append(np.count_nonzero(up_ch == ch))\n",
    "    \n",
    "channels = np.array(channels)\n",
    "print(type(channels))\n",
    "channels = ['867.3', '868.1',' 867.9', '868.5', '867.1', '868.3', '867.7', '867.5']\n",
    "print(channels)\n",
    "print(channel_counts)\n",
    "    \n",
    "fig = plt.figure()\n",
    "ax = fig.add_axes([0,0,1,1])\n",
    "\n",
    "\n",
    "pps = ax.bar(channels,channel_counts,color = 'blue',alpha=0.5)\n",
    "for p in pps:\n",
    "    height = p.get_height()\n",
    "    ax.text(x=p.get_x() + p.get_width() / 2, y=height+.10,\n",
    "      s=\"{:.2f}%\".format((height/len(up_ch)*100)),\n",
    "      ha='center')\n",
    "ax.set_ylabel('Uplink Frames')\n",
    "ax.set_title('Uplink Frames by Channel')\n",
    "plt.savefig('img/up_ch.png')\n",
    "plt.show()"
   ]
  },
  {
   "cell_type": "code",
   "execution_count": 19,
   "metadata": {},
   "outputs": [
    {
     "name": "stdout",
     "output_type": "stream",
     "text": [
      "19\n",
      "Downlinks :  39\n"
     ]
    }
   ],
   "source": [
    "\n",
    "down_processed = []\n",
    "for d in downlinks_data :\n",
    "    fOpts = d['phyPayloadJSON']['macPayload']['fhdr']['fOpts']\n",
    "    #print(fOpts)\n",
    "    if(len(fOpts) == 1):\n",
    "        fOpts = fOpts [0]\n",
    "        chMask = fOpts['payload']['chMask']\n",
    "        if (sum(chMask) == 1):\n",
    "            down_processed.append(d)\n",
    "            \n",
    "print(len(down_processed))\n",
    "print('Downlinks : ',len(downlinks_data))"
   ]
  },
  {
   "cell_type": "code",
   "execution_count": 26,
   "metadata": {},
   "outputs": [
    {
     "name": "stdout",
     "output_type": "stream",
     "text": [
      "38\n",
      "38\n",
      "38\n",
      "38\n"
     ]
    }
   ],
   "source": [
    "count = 0\n",
    "count_ack_dr = 0\n",
    "count_ack_tp = 0\n",
    "count_ack_ch = 0\n",
    "fCnt_save = -1\n",
    "for u in uplinks_data:\n",
    "    fOpts = u['phyPayloadJSON']['macPayload']['fhdr']['fOpts']\n",
    "    #print(u['phyPayloadJSON']['macPayload']['fhdr']['fOpts'])\n",
    "    fCnt = u['phyPayloadJSON']['macPayload']['fhdr']['fCnt']\n",
    "    if (fCnt >fCnt_save ):  \n",
    "        if (fOpts != None):\n",
    "            count = count +1\n",
    "            #print( u['phyPayloadJSON']['macPayload']['fhdr']['fCnt'])\n",
    "            #print()\n",
    "            for op in fOpts:\n",
    "                if (op['payload']['dataRateAck']):\n",
    "                    count_ack_dr = count_ack_dr +1\n",
    "                if (op['payload']['powerAck']):\n",
    "                    count_ack_tp = count_ack_tp +1\n",
    "                if (op['payload']['channelMaskAck']):\n",
    "                    count_ack_ch = count_ack_ch +1\n",
    "    fCnt_save = fCnt\n",
    "            \n",
    "\n",
    "print(count)\n",
    "print (count_ack_dr)\n",
    "print (count_ack_tp)\n",
    "print (count_ack_ch)"
   ]
  },
  {
   "cell_type": "code",
   "execution_count": 27,
   "metadata": {},
   "outputs": [
    {
     "name": "stdout",
     "output_type": "stream",
     "text": [
      "Downlink Extraction Rate: 97.43589743589743%\n"
     ]
    }
   ],
   "source": [
    "# Downlink Extraction Rate\n",
    "\n",
    "down_extraction_rate = (count / len(downlinks_data) )*100\n",
    "print(f'Downlink Extraction Rate: {down_extraction_rate}%')"
   ]
  }
 ],
 "metadata": {
  "kernelspec": {
   "display_name": "Python 3",
   "language": "python",
   "name": "python3"
  },
  "language_info": {
   "codemirror_mode": {
    "name": "ipython",
    "version": 3
   },
   "file_extension": ".py",
   "mimetype": "text/x-python",
   "name": "python",
   "nbconvert_exporter": "python",
   "pygments_lexer": "ipython3",
   "version": "3.7.4"
  }
 },
 "nbformat": 4,
 "nbformat_minor": 4
}
